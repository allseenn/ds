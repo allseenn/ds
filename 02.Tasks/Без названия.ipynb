{
 "cells": [
  {
   "cell_type": "code",
   "execution_count": 1,
   "id": "3ec0fe7a",
   "metadata": {},
   "outputs": [],
   "source": [
    "import numpy as np"
   ]
  },
  {
   "cell_type": "code",
   "execution_count": 4,
   "id": "819b6ca7",
   "metadata": {},
   "outputs": [],
   "source": [
    "fib_1 = np.array([1, 0, \n",
    "                  0, 1])\n",
    "\n",
    "fib_2 = np.array([0, 1,\n",
    "                  1, 1])"
   ]
  },
  {
   "cell_type": "code",
   "execution_count": null,
   "id": "576ff6a3",
   "metadata": {},
   "outputs": [],
   "source": []
  }
 ],
 "metadata": {
  "kernelspec": {
   "display_name": "Python 3 (ipykernel)",
   "language": "python",
   "name": "python3"
  },
  "language_info": {
   "codemirror_mode": {
    "name": "ipython",
    "version": 3
   },
   "file_extension": ".py",
   "mimetype": "text/x-python",
   "name": "python",
   "nbconvert_exporter": "python",
   "pygments_lexer": "ipython3",
   "version": "3.9.18"
  }
 },
 "nbformat": 4,
 "nbformat_minor": 5
}
