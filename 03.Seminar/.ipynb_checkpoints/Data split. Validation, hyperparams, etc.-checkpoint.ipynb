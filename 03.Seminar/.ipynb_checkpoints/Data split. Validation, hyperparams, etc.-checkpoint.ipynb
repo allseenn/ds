{
 "cells": [
  {
   "cell_type": "markdown",
   "metadata": {},
   "source": [
    "## Разделение данных\n",
    "\n",
    "Для того чтобы оценить качество модели, нужно оценить ее работу на данных, которые она еще не видела.\n",
    "\n",
    "В sklearn для разделения на тренировочную и тестовую выборки есть метод `train_test_split()`"
   ]
  },
  {
   "cell_type": "code",
   "execution_count": 1,
   "metadata": {},
   "outputs": [
    {
     "name": "stdout",
     "output_type": "stream",
     "text": [
      "Размерность матрицы признаков (569, 30)\n",
      "(569,)\n"
     ]
    },
    {
     "data": {
      "text/html": [
       "<div>\n",
       "<style scoped>\n",
       "    .dataframe tbody tr th:only-of-type {\n",
       "        vertical-align: middle;\n",
       "    }\n",
       "\n",
       "    .dataframe tbody tr th {\n",
       "        vertical-align: top;\n",
       "    }\n",
       "\n",
       "    .dataframe thead th {\n",
       "        text-align: right;\n",
       "    }\n",
       "</style>\n",
       "<table border=\"1\" class=\"dataframe\">\n",
       "  <thead>\n",
       "    <tr style=\"text-align: right;\">\n",
       "      <th></th>\n",
       "      <th>mean radius</th>\n",
       "      <th>mean texture</th>\n",
       "      <th>mean perimeter</th>\n",
       "      <th>mean area</th>\n",
       "      <th>mean smoothness</th>\n",
       "      <th>mean compactness</th>\n",
       "      <th>mean concavity</th>\n",
       "      <th>mean concave points</th>\n",
       "      <th>mean symmetry</th>\n",
       "      <th>mean fractal dimension</th>\n",
       "      <th>...</th>\n",
       "      <th>worst radius</th>\n",
       "      <th>worst texture</th>\n",
       "      <th>worst perimeter</th>\n",
       "      <th>worst area</th>\n",
       "      <th>worst smoothness</th>\n",
       "      <th>worst compactness</th>\n",
       "      <th>worst concavity</th>\n",
       "      <th>worst concave points</th>\n",
       "      <th>worst symmetry</th>\n",
       "      <th>worst fractal dimension</th>\n",
       "    </tr>\n",
       "  </thead>\n",
       "  <tbody>\n",
       "    <tr>\n",
       "      <th>180</th>\n",
       "      <td>27.22</td>\n",
       "      <td>21.87</td>\n",
       "      <td>182.10</td>\n",
       "      <td>2250.0</td>\n",
       "      <td>0.10940</td>\n",
       "      <td>0.19140</td>\n",
       "      <td>0.287100</td>\n",
       "      <td>0.187800</td>\n",
       "      <td>0.1800</td>\n",
       "      <td>0.05770</td>\n",
       "      <td>...</td>\n",
       "      <td>33.12</td>\n",
       "      <td>32.85</td>\n",
       "      <td>220.80</td>\n",
       "      <td>3216.0</td>\n",
       "      <td>0.1472</td>\n",
       "      <td>0.40340</td>\n",
       "      <td>0.53400</td>\n",
       "      <td>0.26880</td>\n",
       "      <td>0.2856</td>\n",
       "      <td>0.08082</td>\n",
       "    </tr>\n",
       "    <tr>\n",
       "      <th>348</th>\n",
       "      <td>11.47</td>\n",
       "      <td>16.03</td>\n",
       "      <td>73.02</td>\n",
       "      <td>402.7</td>\n",
       "      <td>0.09076</td>\n",
       "      <td>0.05886</td>\n",
       "      <td>0.025870</td>\n",
       "      <td>0.023220</td>\n",
       "      <td>0.1634</td>\n",
       "      <td>0.06372</td>\n",
       "      <td>...</td>\n",
       "      <td>12.51</td>\n",
       "      <td>20.79</td>\n",
       "      <td>79.67</td>\n",
       "      <td>475.8</td>\n",
       "      <td>0.1531</td>\n",
       "      <td>0.11200</td>\n",
       "      <td>0.09823</td>\n",
       "      <td>0.06548</td>\n",
       "      <td>0.2851</td>\n",
       "      <td>0.08763</td>\n",
       "    </tr>\n",
       "    <tr>\n",
       "      <th>492</th>\n",
       "      <td>18.01</td>\n",
       "      <td>20.56</td>\n",
       "      <td>118.40</td>\n",
       "      <td>1007.0</td>\n",
       "      <td>0.10010</td>\n",
       "      <td>0.12890</td>\n",
       "      <td>0.117000</td>\n",
       "      <td>0.077620</td>\n",
       "      <td>0.2116</td>\n",
       "      <td>0.06077</td>\n",
       "      <td>...</td>\n",
       "      <td>21.53</td>\n",
       "      <td>26.06</td>\n",
       "      <td>143.40</td>\n",
       "      <td>1426.0</td>\n",
       "      <td>0.1309</td>\n",
       "      <td>0.23270</td>\n",
       "      <td>0.25440</td>\n",
       "      <td>0.14890</td>\n",
       "      <td>0.3251</td>\n",
       "      <td>0.07625</td>\n",
       "    </tr>\n",
       "    <tr>\n",
       "      <th>332</th>\n",
       "      <td>11.22</td>\n",
       "      <td>19.86</td>\n",
       "      <td>71.94</td>\n",
       "      <td>387.3</td>\n",
       "      <td>0.10540</td>\n",
       "      <td>0.06779</td>\n",
       "      <td>0.005006</td>\n",
       "      <td>0.007583</td>\n",
       "      <td>0.1940</td>\n",
       "      <td>0.06028</td>\n",
       "      <td>...</td>\n",
       "      <td>11.98</td>\n",
       "      <td>25.78</td>\n",
       "      <td>76.91</td>\n",
       "      <td>436.1</td>\n",
       "      <td>0.1424</td>\n",
       "      <td>0.09669</td>\n",
       "      <td>0.01335</td>\n",
       "      <td>0.02022</td>\n",
       "      <td>0.3292</td>\n",
       "      <td>0.06522</td>\n",
       "    </tr>\n",
       "    <tr>\n",
       "      <th>457</th>\n",
       "      <td>13.21</td>\n",
       "      <td>25.25</td>\n",
       "      <td>84.10</td>\n",
       "      <td>537.9</td>\n",
       "      <td>0.08791</td>\n",
       "      <td>0.05205</td>\n",
       "      <td>0.027720</td>\n",
       "      <td>0.020680</td>\n",
       "      <td>0.1619</td>\n",
       "      <td>0.05584</td>\n",
       "      <td>...</td>\n",
       "      <td>14.35</td>\n",
       "      <td>34.23</td>\n",
       "      <td>91.29</td>\n",
       "      <td>632.9</td>\n",
       "      <td>0.1289</td>\n",
       "      <td>0.10630</td>\n",
       "      <td>0.13900</td>\n",
       "      <td>0.06005</td>\n",
       "      <td>0.2444</td>\n",
       "      <td>0.06788</td>\n",
       "    </tr>\n",
       "    <tr>\n",
       "      <th>154</th>\n",
       "      <td>13.15</td>\n",
       "      <td>15.34</td>\n",
       "      <td>85.31</td>\n",
       "      <td>538.9</td>\n",
       "      <td>0.09384</td>\n",
       "      <td>0.08498</td>\n",
       "      <td>0.092930</td>\n",
       "      <td>0.034830</td>\n",
       "      <td>0.1822</td>\n",
       "      <td>0.06207</td>\n",
       "      <td>...</td>\n",
       "      <td>14.77</td>\n",
       "      <td>20.50</td>\n",
       "      <td>97.67</td>\n",
       "      <td>677.3</td>\n",
       "      <td>0.1478</td>\n",
       "      <td>0.22560</td>\n",
       "      <td>0.30090</td>\n",
       "      <td>0.09722</td>\n",
       "      <td>0.3849</td>\n",
       "      <td>0.08633</td>\n",
       "    </tr>\n",
       "    <tr>\n",
       "      <th>34</th>\n",
       "      <td>16.13</td>\n",
       "      <td>17.88</td>\n",
       "      <td>107.00</td>\n",
       "      <td>807.2</td>\n",
       "      <td>0.10400</td>\n",
       "      <td>0.15590</td>\n",
       "      <td>0.135400</td>\n",
       "      <td>0.077520</td>\n",
       "      <td>0.1998</td>\n",
       "      <td>0.06515</td>\n",
       "      <td>...</td>\n",
       "      <td>20.21</td>\n",
       "      <td>27.26</td>\n",
       "      <td>132.70</td>\n",
       "      <td>1261.0</td>\n",
       "      <td>0.1446</td>\n",
       "      <td>0.58040</td>\n",
       "      <td>0.52740</td>\n",
       "      <td>0.18640</td>\n",
       "      <td>0.4270</td>\n",
       "      <td>0.12330</td>\n",
       "    </tr>\n",
       "    <tr>\n",
       "      <th>167</th>\n",
       "      <td>16.78</td>\n",
       "      <td>18.80</td>\n",
       "      <td>109.30</td>\n",
       "      <td>886.3</td>\n",
       "      <td>0.08865</td>\n",
       "      <td>0.09182</td>\n",
       "      <td>0.084220</td>\n",
       "      <td>0.065760</td>\n",
       "      <td>0.1893</td>\n",
       "      <td>0.05534</td>\n",
       "      <td>...</td>\n",
       "      <td>20.05</td>\n",
       "      <td>26.30</td>\n",
       "      <td>130.70</td>\n",
       "      <td>1260.0</td>\n",
       "      <td>0.1168</td>\n",
       "      <td>0.21190</td>\n",
       "      <td>0.23180</td>\n",
       "      <td>0.14740</td>\n",
       "      <td>0.2810</td>\n",
       "      <td>0.07228</td>\n",
       "    </tr>\n",
       "    <tr>\n",
       "      <th>143</th>\n",
       "      <td>12.90</td>\n",
       "      <td>15.92</td>\n",
       "      <td>83.74</td>\n",
       "      <td>512.2</td>\n",
       "      <td>0.08677</td>\n",
       "      <td>0.09509</td>\n",
       "      <td>0.048940</td>\n",
       "      <td>0.030880</td>\n",
       "      <td>0.1778</td>\n",
       "      <td>0.06235</td>\n",
       "      <td>...</td>\n",
       "      <td>14.48</td>\n",
       "      <td>21.82</td>\n",
       "      <td>97.17</td>\n",
       "      <td>643.8</td>\n",
       "      <td>0.1312</td>\n",
       "      <td>0.25480</td>\n",
       "      <td>0.20900</td>\n",
       "      <td>0.10120</td>\n",
       "      <td>0.3549</td>\n",
       "      <td>0.08118</td>\n",
       "    </tr>\n",
       "    <tr>\n",
       "      <th>263</th>\n",
       "      <td>15.61</td>\n",
       "      <td>19.38</td>\n",
       "      <td>100.00</td>\n",
       "      <td>758.6</td>\n",
       "      <td>0.07840</td>\n",
       "      <td>0.05616</td>\n",
       "      <td>0.042090</td>\n",
       "      <td>0.028470</td>\n",
       "      <td>0.1547</td>\n",
       "      <td>0.05443</td>\n",
       "      <td>...</td>\n",
       "      <td>17.91</td>\n",
       "      <td>31.67</td>\n",
       "      <td>115.90</td>\n",
       "      <td>988.6</td>\n",
       "      <td>0.1084</td>\n",
       "      <td>0.18070</td>\n",
       "      <td>0.22600</td>\n",
       "      <td>0.08568</td>\n",
       "      <td>0.2683</td>\n",
       "      <td>0.06829</td>\n",
       "    </tr>\n",
       "  </tbody>\n",
       "</table>\n",
       "<p>10 rows × 30 columns</p>\n",
       "</div>"
      ],
      "text/plain": [
       "     mean radius  mean texture  mean perimeter  mean area  mean smoothness  \\\n",
       "180        27.22         21.87          182.10     2250.0          0.10940   \n",
       "348        11.47         16.03           73.02      402.7          0.09076   \n",
       "492        18.01         20.56          118.40     1007.0          0.10010   \n",
       "332        11.22         19.86           71.94      387.3          0.10540   \n",
       "457        13.21         25.25           84.10      537.9          0.08791   \n",
       "154        13.15         15.34           85.31      538.9          0.09384   \n",
       "34         16.13         17.88          107.00      807.2          0.10400   \n",
       "167        16.78         18.80          109.30      886.3          0.08865   \n",
       "143        12.90         15.92           83.74      512.2          0.08677   \n",
       "263        15.61         19.38          100.00      758.6          0.07840   \n",
       "\n",
       "     mean compactness  mean concavity  mean concave points  mean symmetry  \\\n",
       "180           0.19140        0.287100             0.187800         0.1800   \n",
       "348           0.05886        0.025870             0.023220         0.1634   \n",
       "492           0.12890        0.117000             0.077620         0.2116   \n",
       "332           0.06779        0.005006             0.007583         0.1940   \n",
       "457           0.05205        0.027720             0.020680         0.1619   \n",
       "154           0.08498        0.092930             0.034830         0.1822   \n",
       "34            0.15590        0.135400             0.077520         0.1998   \n",
       "167           0.09182        0.084220             0.065760         0.1893   \n",
       "143           0.09509        0.048940             0.030880         0.1778   \n",
       "263           0.05616        0.042090             0.028470         0.1547   \n",
       "\n",
       "     mean fractal dimension  ...  worst radius  worst texture  \\\n",
       "180                 0.05770  ...         33.12          32.85   \n",
       "348                 0.06372  ...         12.51          20.79   \n",
       "492                 0.06077  ...         21.53          26.06   \n",
       "332                 0.06028  ...         11.98          25.78   \n",
       "457                 0.05584  ...         14.35          34.23   \n",
       "154                 0.06207  ...         14.77          20.50   \n",
       "34                  0.06515  ...         20.21          27.26   \n",
       "167                 0.05534  ...         20.05          26.30   \n",
       "143                 0.06235  ...         14.48          21.82   \n",
       "263                 0.05443  ...         17.91          31.67   \n",
       "\n",
       "     worst perimeter  worst area  worst smoothness  worst compactness  \\\n",
       "180           220.80      3216.0            0.1472            0.40340   \n",
       "348            79.67       475.8            0.1531            0.11200   \n",
       "492           143.40      1426.0            0.1309            0.23270   \n",
       "332            76.91       436.1            0.1424            0.09669   \n",
       "457            91.29       632.9            0.1289            0.10630   \n",
       "154            97.67       677.3            0.1478            0.22560   \n",
       "34            132.70      1261.0            0.1446            0.58040   \n",
       "167           130.70      1260.0            0.1168            0.21190   \n",
       "143            97.17       643.8            0.1312            0.25480   \n",
       "263           115.90       988.6            0.1084            0.18070   \n",
       "\n",
       "     worst concavity  worst concave points  worst symmetry  \\\n",
       "180          0.53400               0.26880          0.2856   \n",
       "348          0.09823               0.06548          0.2851   \n",
       "492          0.25440               0.14890          0.3251   \n",
       "332          0.01335               0.02022          0.3292   \n",
       "457          0.13900               0.06005          0.2444   \n",
       "154          0.30090               0.09722          0.3849   \n",
       "34           0.52740               0.18640          0.4270   \n",
       "167          0.23180               0.14740          0.2810   \n",
       "143          0.20900               0.10120          0.3549   \n",
       "263          0.22600               0.08568          0.2683   \n",
       "\n",
       "     worst fractal dimension  \n",
       "180                  0.08082  \n",
       "348                  0.08763  \n",
       "492                  0.07625  \n",
       "332                  0.06522  \n",
       "457                  0.06788  \n",
       "154                  0.08633  \n",
       "34                   0.12330  \n",
       "167                  0.07228  \n",
       "143                  0.08118  \n",
       "263                  0.06829  \n",
       "\n",
       "[10 rows x 30 columns]"
      ]
     },
     "execution_count": 1,
     "metadata": {},
     "output_type": "execute_result"
    }
   ],
   "source": [
    "# Импортируем данные\n",
    "from sklearn.datasets import load_breast_cancer\n",
    "\n",
    "# Загружаем исходные данные\n",
    "X, y = load_breast_cancer(return_X_y = True, as_frame = True)\n",
    "\n",
    "print(\"Размерность матрицы признаков\", X.shape)\n",
    "print(y.shape)\n",
    "\n",
    "X.sample(10)"
   ]
  },
  {
   "cell_type": "code",
   "execution_count": 2,
   "metadata": {
    "scrolled": true
   },
   "outputs": [
    {
     "name": "stdout",
     "output_type": "stream",
     "text": [
      "Размерность тренировочной выборки: (455, 30)\n",
      "Размерность тестовой выборки: (114, 30)\n"
     ]
    }
   ],
   "source": [
    "# Импорт функции \n",
    "from sklearn.model_selection import train_test_split\n",
    "\n",
    "X_train, X_test, y_train, y_test = train_test_split(X, y, random_state = 42, test_size = .2)\n",
    "\n",
    "print(\"Размерность тренировочной выборки:\", X_train.shape)\n",
    "print(\"Размерность тестовой выборки:\", X_test.shape)"
   ]
  },
  {
   "cell_type": "markdown",
   "metadata": {},
   "source": [
    "## Логистическая регрессия\n",
    "\n",
    "Логистическая регрессия - вероятностная модель, предсказывающая принадлежность наблюдения какому-либо классу.\n",
    "\n",
    "Задается при помощи логистической функции: $$f(x) = \\frac{1}{1 + e^{-x}}$$\n",
    "\n",
    "Если хочется узнать математическую базу алгоритма (нужно знать теорию вероятностей): https://ru.wikipedia.org/wiki/%D0%9B%D0%BE%D0%B3%D0%B8%D1%81%D1%82%D0%B8%D1%87%D0%B5%D1%81%D0%BA%D0%B0%D1%8F_%D1%80%D0%B5%D0%B3%D1%80%D0%B5%D1%81%D1%81%D0%B8%D1%8F"
   ]
  },
  {
   "cell_type": "code",
   "execution_count": 3,
   "metadata": {
    "scrolled": false
   },
   "outputs": [
    {
     "data": {
      "image/png": "[encoded data removed]",
      "text/plain": [
       "<Figure size 720x720 with 1 Axes>"
      ]
     },
     "metadata": {
      "needs_background": "light"
     },
     "output_type": "display_data"
    }
   ],
   "source": [
    "import numpy as np\n",
    "import matplotlib.pyplot as plt\n",
    "\n",
    "def log_func(x):\n",
    "    return 1/(1 + np.exp(-x))\n",
    "\n",
    "plt.figure(figsize = (10, 10))\n",
    "plt.plot([x for x in range(-6, 7)], [log_func(x) for x in range(-6, 7)],\n",
    "        label = 'f(x) = 1/(1 + e^(-x))')\n",
    "plt.title('График логистической функции')\n",
    "plt.legend()\n",
    "\n",
    "plt.show()"
   ]
  },
  {
   "cell_type": "markdown",
   "metadata": {},
   "source": [
    "В библиотеке sklearn логистическая регрессия является частью класса `linear_model`\n",
    "\n",
    "Обучим модель на тренировочной выборке"
   ]
  },
  {
   "cell_type": "code",
   "execution_count": 4,
   "metadata": {},
   "outputs": [
    {
     "name": "stderr",
     "output_type": "stream",
     "text": [
      "/Users/gleb/opt/anaconda3/lib/python3.7/site-packages/sklearn/linear_model/_logistic.py:764: ConvergenceWarning: lbfgs failed to converge (status=1):\n",
      "STOP: TOTAL NO. of ITERATIONS REACHED LIMIT.\n",
      "\n",
      "Increase the number of iterations (max_iter) or scale the data as shown in:\n",
      "    https://scikit-learn.org/stable/modules/preprocessing.html\n",
      "Please also refer to the documentation for alternative solver options:\n",
      "    https://scikit-learn.org/stable/modules/linear_model.html#logistic-regression\n",
      "  extra_warning_msg=_LOGISTIC_SOLVER_CONVERGENCE_MSG)\n"
     ]
    },
    {
     "data": {
      "text/plain": [
       "LogisticRegression(random_state=42)"
      ]
     },
     "execution_count": 4,
     "metadata": {},
     "output_type": "execute_result"
    }
   ],
   "source": [
    "# Импортируем лог. регрессию\n",
    "from sklearn.linear_model import LogisticRegression\n",
    "\n",
    "# Создаем модель\n",
    "model = LogisticRegression(random_state = 42)\n",
    "\n",
    "model.fit(X_train, y_train)"
   ]
  },
  {
   "cell_type": "markdown",
   "metadata": {},
   "source": [
    "Т.к. это задача классификации посмотрим на accuracy и roc_auc_score на тестовых данных"
   ]
  },
  {
   "cell_type": "code",
   "execution_count": 5,
   "metadata": {},
   "outputs": [
    {
     "name": "stdout",
     "output_type": "stream",
     "text": [
      "Accuracy score: 0.956140350877193\n",
      "roc_auc_score score: 0.9604729729729731\n"
     ]
    }
   ],
   "source": [
    "from sklearn.metrics import accuracy_score, roc_auc_score\n",
    "\n",
    "pred = model.predict(X_test)\n",
    "\n",
    "print('Accuracy score:', accuracy_score(pred, y_test))\n",
    "print('roc_auc_score score:', roc_auc_score(pred, y_test))"
   ]
  },
  {
   "cell_type": "markdown",
   "metadata": {},
   "source": [
    "## Гиперпараметры и их подбор\n",
    "\n",
    "У модели логистической немного гиперпараметров, полный список можно посмотреть здесь: https://scikit-learn.org/stable/modules/generated/sklearn.linear_model.LogisticRegression.html#sklearn.linear_model.LogisticRegression\n",
    "\n",
    "Попробуем увеличить количество итераций `max_iter` с дефолтных 100 на 1000"
   ]
  },
  {
   "cell_type": "code",
   "execution_count": 6,
   "metadata": {},
   "outputs": [
    {
     "name": "stdout",
     "output_type": "stream",
     "text": [
      "Accuracy score: 0.956140350877193\n",
      "roc_auc_score score: 0.9604729729729731\n"
     ]
    },
    {
     "name": "stderr",
     "output_type": "stream",
     "text": [
      "/Users/gleb/opt/anaconda3/lib/python3.7/site-packages/sklearn/linear_model/_logistic.py:764: ConvergenceWarning: lbfgs failed to converge (status=1):\n",
      "STOP: TOTAL NO. of ITERATIONS REACHED LIMIT.\n",
      "\n",
      "Increase the number of iterations (max_iter) or scale the data as shown in:\n",
      "    https://scikit-learn.org/stable/modules/preprocessing.html\n",
      "Please also refer to the documentation for alternative solver options:\n",
      "    https://scikit-learn.org/stable/modules/linear_model.html#logistic-regression\n",
      "  extra_warning_msg=_LOGISTIC_SOLVER_CONVERGENCE_MSG)\n"
     ]
    }
   ],
   "source": [
    "model_1000 = LogisticRegression(max_iter = 1000, random_state = 42)\n",
    "\n",
    "model_1000.fit(X_train, y_train)\n",
    "pred_1000 = model_1000.predict(X_test)\n",
    "\n",
    "print('Accuracy score:', accuracy_score(pred_1000, y_test))\n",
    "print('roc_auc_score score:', roc_auc_score(pred_1000, y_test))\n"
   ]
  },
  {
   "cell_type": "markdown",
   "metadata": {},
   "source": [
    "У многих других алгоритмов, например основанных на деревьях принятия решений, о которых мы поговорим на следующем уроке, может быть очень много гиперпараметров и подбирать их оптимальную комбинацию - трудоемкий процесс.\n",
    "\n",
    "Для этих целей можно использовать встроенные в sklearn методы поиска по сетке `GridSearchCV` и случайного поиска `RandomizedSearchCV`"
   ]
  },
  {
   "cell_type": "code",
   "execution_count": 7,
   "metadata": {},
   "outputs": [
    {
     "name": "stdout",
     "output_type": "stream",
     "text": [
      "Лучшая комбинация гиперпараметров {'C': 1, 'kernel': 'linear'}\n"
     ]
    }
   ],
   "source": [
    "# Импорт модуля svm\n",
    "from sklearn import svm\n",
    "\n",
    "# Импорт функции для поиска по сетке\n",
    "from sklearn.model_selection import GridSearchCV\n",
    "\n",
    "parameters = {'kernel':('linear', 'rbf'), 'C':[1, 10]}\n",
    "\n",
    "# модель\n",
    "svc = svm.SVC()\n",
    "# поиск по сетке\n",
    "clf = GridSearchCV(svc, parameters)\n",
    "clf.fit(X_train, y_train)\n",
    "\n",
    "print(\"Лучшая комбинация гиперпараметров\", clf.best_params_)"
   ]
  },
  {
   "cell_type": "markdown",
   "metadata": {},
   "source": [
    "## Кросс-валидация\n",
    "\n",
    "Используя обычный `train_test_split` может возникнуть такая ситуация: в обучающую выборку попали лишь объекты одного класса, соответственно модель научится определять только один класс\n",
    "\n",
    "Чтобы избежать такого и других сценариев связанных со случайным разбиением данных на выборки, применяют **кросс-валидацию**\n",
    "\n",
    "Типичным примером кросс-валидации является `KFold`"
   ]
  },
  {
   "cell_type": "code",
   "execution_count": 14,
   "metadata": {},
   "outputs": [
    {
     "data": {
      "text/plain": [
       "<AxesSubplot:title={'center':'KFold'}, xlabel='Sample index', ylabel='CV iteration'>"
      ]
     },
     "execution_count": 14,
     "metadata": {},
     "output_type": "execute_result"
    },
    {
     "data": {
      "image/png": "[encoded data removed]",
      "text/plain": [
       "<Figure size 720x720 with 1 Axes>"
      ]
     },
     "metadata": {
      "needs_background": "light"
     },
     "output_type": "display_data"
    }
   ],
   "source": [
    "# KFold находится в модуле `model_selection`\n",
    "from sklearn.model_selection import KFold\n",
    "\n",
    "# Для визуализации\n",
    "from matplotlib.patches import Patch\n",
    "\n",
    "\n",
    "# Функция для визуализации\n",
    "def plot_cv_indices(cv, X, y, group, ax, n_splits, lw=10):\n",
    "    \"\"\"Create a sample plot for indices of a cross-validation object.\"\"\"\n",
    "\n",
    "    # Generate the training/testing visualizations for each CV split\n",
    "    for ii, (tr, tt) in enumerate(cv.split(X=X, y=y, groups=group)):\n",
    "        # Fill in indices with the training/test groups\n",
    "        indices = np.array([np.nan] * len(X))\n",
    "        indices[tt] = 1\n",
    "        indices[tr] = 0\n",
    "\n",
    "        # Visualize the results\n",
    "        ax.scatter(range(len(indices)), [ii + .5] * len(indices),\n",
    "                   c=indices, marker='_', lw=lw, cmap=cmap_cv,\n",
    "                   vmin=-.2, vmax=1.2)\n",
    "\n",
    "    # Plot the data classes and groups at the end\n",
    "    ax.scatter(range(len(X)), [ii + 1.5] * len(X),\n",
    "               c=y, marker='_', lw=lw, cmap=cmap_data)\n",
    "\n",
    "    ax.scatter(range(len(X)), [ii + 2.5] * len(X),\n",
    "               c=group, marker='_', lw=lw, cmap=cmap_data)\n",
    "\n",
    "    # Formatting\n",
    "    yticklabels = list(range(n_splits)) + ['class', 'group']\n",
    "    ax.set(yticks=np.arange(n_splits+2) + .5, yticklabels=yticklabels,\n",
    "           xlabel='Sample index', ylabel=\"CV iteration\",\n",
    "           ylim=[n_splits+2.2, -.2], xlim=[0, 100])\n",
    "    ax.set_title('{}'.format(type(cv).__name__), fontsize=15)\n",
    "    return ax\n",
    "\n",
    "\n",
    "fig, ax = plt.subplots(figsize = (10, 10))\n",
    "# Создаем KFold\n",
    "cv = KFold(n_splits)\n",
    "plot_cv_indices(cv, X, y, groups, ax, n_splits)"
   ]
  },
  {
   "cell_type": "code",
   "execution_count": null,
   "metadata": {},
   "outputs": [],
   "source": []
  }
 ],
 "metadata": {
  "kernelspec": {
   "display_name": "Python 3 (ipykernel)",
   "language": "python",
   "name": "python3"
  },
  "language_info": {
   "codemirror_mode": {
    "name": "ipython",
    "version": 3
   },
   "file_extension": ".py",
   "mimetype": "text/x-python",
   "name": "python",
   "nbconvert_exporter": "python",
   "pygments_lexer": "ipython3",
   "version": "3.9.18"
  }
 },
 "nbformat": 4,
 "nbformat_minor": 4
}
